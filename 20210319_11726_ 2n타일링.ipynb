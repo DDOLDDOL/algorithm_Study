{
 "cells": [
  {
   "cell_type": "code",
   "execution_count": 27,
   "metadata": {},
   "outputs": [
    {
     "name": "stdout",
     "output_type": "stream",
     "text": [
      "9\n",
      "55\n"
     ]
    }
   ],
   "source": [
    "# 왜 IndexError가 나는지\n",
    "num = int(input())\n",
    "\n",
    "dp = [0] * num\n",
    "dp[0] = 1 \n",
    "dp[1] = 2 \n",
    "\n",
    "for i in range(2,num):\n",
    "    dp[i] = dp[i-2]+dp[i-1]\n",
    "    \n",
    "print(dp[-1]%10007)"
   ]
  },
  {
   "cell_type": "code",
   "execution_count": 29,
   "metadata": {},
   "outputs": [
    {
     "name": "stdout",
     "output_type": "stream",
     "text": [
      "9\n",
      "55\n"
     ]
    }
   ],
   "source": [
    "# 수정 오답 (한자리씩 늘림) \n",
    "num = int(input())\n",
    "dp = [0] * (num+1)\n",
    "dp[1],dp[2] = 1, 2\n",
    "for i in range(3, num+1):\n",
    "    dp[i] = dp[i-2] + dp[i-1]\n",
    "    \n",
    "res = dp[num]%10007\n",
    "print(res)\n"
   ]
  },
  {
   "cell_type": "code",
   "execution_count": 31,
   "metadata": {},
   "outputs": [
    {
     "name": "stdout",
     "output_type": "stream",
     "text": [
      "9\n",
      "55\n"
     ]
    }
   ],
   "source": [
    "# 수정 답안\n",
    "n = int(input())\n",
    "dp = [0] * (n+1)\n",
    "for i in range(1,n+1):\n",
    "    if i == 1:\n",
    "        dp[i] = 1\n",
    "        continue\n",
    "    elif i == 2 :\n",
    "        dp[i] = 2\n",
    "        continue\n",
    "    dp[i] = dp[i-2] + dp[i-1]\n",
    "\n",
    "res = dp[n]%10007\n",
    "\n",
    "print(res)"
   ]
  },
  {
   "cell_type": "code",
   "execution_count": null,
   "metadata": {},
   "outputs": [],
   "source": []
  }
 ],
 "metadata": {
  "kernelspec": {
   "display_name": "Python 3",
   "language": "python",
   "name": "python3"
  },
  "language_info": {
   "codemirror_mode": {
    "name": "ipython",
    "version": 3
   },
   "file_extension": ".py",
   "mimetype": "text/x-python",
   "name": "python",
   "nbconvert_exporter": "python",
   "pygments_lexer": "ipython3",
   "version": "3.8.3"
  }
 },
 "nbformat": 4,
 "nbformat_minor": 4
}
