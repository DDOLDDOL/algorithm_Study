{
 "cells": [
  {
   "cell_type": "code",
   "execution_count": 58,
   "id": "6b8c3a31",
   "metadata": {},
   "outputs": [],
   "source": [
    "def solution(genres, plays):\n",
    "    answer = []\n",
    "    genre_dic = {}\n",
    "    total_list = {}\n",
    "    \n",
    "    for i in range(len(genres)):\n",
    "        if genres[i] in genre_dic:\n",
    "            genre_dic[genres[i]] += plays[i]\n",
    "            total_list[genres[i]].append((plays[i],i))\n",
    "        else:\n",
    "            genre_dic[genres[i]] = plays[i]\n",
    "            total_list[genres[i]] = [(plays[i], i)]\n",
    "    genre_dic = sorted(genre_dic.items(), key = lambda x:x[1], reverse = True)\n",
    "    for i in total_list:\n",
    "        total_list[i] = sorted(total_list[i], key=lambda x:x[0], reverse=True)[:2]\n",
    "    \n",
    "    while len(genre_dic) > 0:\n",
    "        genre_max = genre_dic.pop(0)\n",
    "        for t in total_list:\n",
    "            if t == genre_max[0]:\n",
    "                if len(total_list[t]) > 1:\n",
    "                    answer.append(total_list[t][0][1])\n",
    "                    answer.append(total_list[t][1][1])\n",
    "                else:\n",
    "                    answer.append(total_list[t][0][1])\n",
    "    return answer"
   ]
  },
  {
   "cell_type": "code",
   "execution_count": 24,
   "id": "a975d4ff",
   "metadata": {},
   "outputs": [
    {
     "ename": "NameError",
     "evalue": "name 'play_list' is not defined",
     "output_type": "error",
     "traceback": [
      "\u001b[1;31m---------------------------------------------------------------------------\u001b[0m",
      "\u001b[1;31mNameError\u001b[0m                                 Traceback (most recent call last)",
      "\u001b[1;32m<ipython-input-24-923e999c6a70>\u001b[0m in \u001b[0;36m<module>\u001b[1;34m\u001b[0m\n\u001b[1;32m----> 1\u001b[1;33m \u001b[0mplay_list\u001b[0m\u001b[1;33m.\u001b[0m\u001b[0msort\u001b[0m\u001b[1;33m(\u001b[0m\u001b[0mkey\u001b[0m \u001b[1;33m=\u001b[0m \u001b[0mplay_list\u001b[0m\u001b[1;33m.\u001b[0m\u001b[0mvalues\u001b[0m\u001b[1;33m(\u001b[0m\u001b[1;33m)\u001b[0m\u001b[1;33m.\u001b[0m\u001b[0msum\u001b[0m\u001b[1;33m(\u001b[0m\u001b[1;33m)\u001b[0m\u001b[1;33m)\u001b[0m\u001b[1;33m\u001b[0m\u001b[1;33m\u001b[0m\u001b[0m\n\u001b[0m",
      "\u001b[1;31mNameError\u001b[0m: name 'play_list' is not defined"
     ]
    }
   ],
   "source": [
    "play_list.sort(key = play_list.values().sum())"
   ]
  },
  {
   "cell_type": "code",
   "execution_count": null,
   "id": "588fea6e",
   "metadata": {},
   "outputs": [],
   "source": []
  }
 ],
 "metadata": {
  "kernelspec": {
   "display_name": "Python 3",
   "language": "python",
   "name": "python3"
  },
  "language_info": {
   "codemirror_mode": {
    "name": "ipython",
    "version": 3
   },
   "file_extension": ".py",
   "mimetype": "text/x-python",
   "name": "python",
   "nbconvert_exporter": "python",
   "pygments_lexer": "ipython3",
   "version": "3.8.8"
  }
 },
 "nbformat": 4,
 "nbformat_minor": 5
}
