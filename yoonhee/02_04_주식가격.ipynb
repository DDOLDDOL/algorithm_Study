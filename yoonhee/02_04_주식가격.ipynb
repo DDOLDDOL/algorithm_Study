{
 "cells": [
  {
   "cell_type": "code",
   "execution_count": null,
   "id": "487e2a66",
   "metadata": {},
   "outputs": [],
   "source": [
    "from collections import deque\n",
    "\n",
    "def solution(prices):\n",
    "    answer = []\n",
    "    \n",
    "    que_prices = deque(prices)\n",
    "    \n",
    "    while que_prices :\n",
    "        price = que_prices.popleft()\n",
    "        up_time = 0\n",
    "        for n in que_prices :\n",
    "            up_time += 1\n",
    "            if price > n :\n",
    "                break\n",
    "        answer.append(up_time)\n",
    "        \n",
    "    return answer"
   ]
  }
 ],
 "metadata": {
  "kernelspec": {
   "display_name": "Python 3",
   "language": "python",
   "name": "python3"
  },
  "language_info": {
   "codemirror_mode": {
    "name": "ipython",
    "version": 3
   },
   "file_extension": ".py",
   "mimetype": "text/x-python",
   "name": "python",
   "nbconvert_exporter": "python",
   "pygments_lexer": "ipython3",
   "version": "3.8.8"
  }
 },
 "nbformat": 4,
 "nbformat_minor": 5
}
