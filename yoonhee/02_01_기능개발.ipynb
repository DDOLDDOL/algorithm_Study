{
 "cells": [
  {
   "cell_type": "code",
   "execution_count": null,
   "id": "a90250f6",
   "metadata": {},
   "outputs": [],
   "source": [
    "def solution(progresses, speeds):\n",
    "    answer = []\n",
    "    days = 0\n",
    "    count = 0\n",
    "\n",
    "    while len(progresses) != 0:\n",
    "        if progresses[0] + days * speeds[0] >= 100:\n",
    "            progresses.pop(0)\n",
    "            speeds.pop(0)\n",
    "            count += 1\n",
    "        else:\n",
    "            if count > 0:\n",
    "                answer.append(count)\n",
    "                count = 0 \n",
    "            days += 1    \n",
    "    \n",
    "\n",
    "    answer.append(count)\n",
    "\n",
    "    return answer"
   ]
  }
 ],
 "metadata": {
  "kernelspec": {
   "display_name": "Python 3",
   "language": "python",
   "name": "python3"
  },
  "language_info": {
   "codemirror_mode": {
    "name": "ipython",
    "version": 3
   },
   "file_extension": ".py",
   "mimetype": "text/x-python",
   "name": "python",
   "nbconvert_exporter": "python",
   "pygments_lexer": "ipython3",
   "version": "3.8.8"
  }
 },
 "nbformat": 4,
 "nbformat_minor": 5
}
