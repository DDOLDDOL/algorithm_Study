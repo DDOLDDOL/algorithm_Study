{
 "cells": [
  {
   "cell_type": "code",
   "execution_count": 23,
   "metadata": {},
   "outputs": [
    {
     "name": "stdout",
     "output_type": "stream",
     "text": [
      "10\n",
      "55\n"
     ]
    }
   ],
   "source": [
    "# 오답 : 시간초과\n",
    "num = int(input())\n",
    "\n",
    "def fibo(num):\n",
    "    if num == 0:\n",
    "        return 0\n",
    "    elif num == 1 or num == 2:\n",
    "        return 1\n",
    "    else: return fibo(num-2) + fibo(num-1)\n",
    "print(fibo(num))"
   ]
  },
  {
   "cell_type": "code",
   "execution_count": 29,
   "metadata": {},
   "outputs": [
    {
     "name": "stdout",
     "output_type": "stream",
     "text": [
      "10\n",
      "55\n"
     ]
    }
   ],
   "source": [
    "# DP는 계산했던 것은 다시 계산하지 않는다\n",
    "# list로 계산\n",
    "\n",
    "# 계산 횟수\n",
    "num = int(input())\n",
    "fibo = []\n",
    "# fibo\n",
    "for i in range(num+1):\n",
    "    if i == 0:\n",
    "        num = 0\n",
    "    elif i == 1 or i == 2:\n",
    "        num = 1\n",
    "    else: \n",
    "        num = fibo[-2] + fibo[-1]\n",
    "    fibo.append(num)\n",
    "print(fibo[-1])\n",
    "    "
   ]
  }
 ],
 "metadata": {
  "kernelspec": {
   "display_name": "Python 3",
   "language": "python",
   "name": "python3"
  },
  "language_info": {
   "codemirror_mode": {
    "name": "ipython",
    "version": 3
   },
   "file_extension": ".py",
   "mimetype": "text/x-python",
   "name": "python",
   "nbconvert_exporter": "python",
   "pygments_lexer": "ipython3",
   "version": "3.8.3"
  }
 },
 "nbformat": 4,
 "nbformat_minor": 4
}
