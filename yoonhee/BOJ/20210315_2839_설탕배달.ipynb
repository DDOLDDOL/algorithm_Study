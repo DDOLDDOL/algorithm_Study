{
 "cells": [
  {
   "cell_type": "markdown",
   "metadata": {},
   "source": [
    "##### 틀린경우(반례)"
   ]
  },
  {
   "cell_type": "markdown",
   "metadata": {},
   "source": [
    "##### 틀린경우(반례)"
   ]
  },
  {
   "cell_type": "code",
   "execution_count": 3,
   "metadata": {},
   "outputs": [
    {
     "name": "stdout",
     "output_type": "stream",
     "text": [
      "5\n",
      "-1\n"
     ]
    }
   ],
   "source": [
    "# 설탕 무게 입력\n",
    "weight = int(input())\n",
    "\n",
    "# 3,5kg 설탕 나르기 최소 횟수 구하기\n",
    "count = 0\n",
    "while True:\n",
    "    # 3kg 설탕\n",
    "    weight -= 3\n",
    "    count += 1\n",
    "   # 5kg 설탕\n",
    "    if weight % 5 == 0:\n",
    "        count += weight//5\n",
    "        print(count)\n",
    "        break\n",
    "    # 정확하지 않은 kg\n",
    "    if weight < 0 :\n",
    "        print(-1)\n",
    "        break\n",
    "  "
   ]
  },
  {
   "cell_type": "markdown",
   "metadata": {},
   "source": [
    "##### 정답"
   ]
  },
  {
   "cell_type": "code",
   "execution_count": 5,
   "metadata": {},
   "outputs": [
    {
     "name": "stdout",
     "output_type": "stream",
     "text": [
      "5\n",
      "1\n"
     ]
    }
   ],
   "source": [
    "# 설탕 무게 입력\n",
    "weight = int(input())\n",
    "\n",
    "# 3,5kg 설탕 나르기 최소 횟수 구하기\n",
    "count = 0\n",
    "while True:\n",
    "   # 5kg 설탕\n",
    "    if weight % 5 == 0:\n",
    "        count += weight//5\n",
    "        print(count)\n",
    "        break\n",
    "    # 3kg 설탕\n",
    "    weight -= 3\n",
    "    count += 1\n",
    "    # 정확하지 않은 kg\n",
    "    if weight < 0 :\n",
    "        print(-1)\n",
    "        break"
   ]
  },
  {
   "cell_type": "code",
   "execution_count": null,
   "metadata": {},
   "outputs": [],
   "source": []
  },
  {
   "cell_type": "code",
   "execution_count": null,
   "metadata": {},
   "outputs": [],
   "source": []
  }
 ],
 "metadata": {
  "kernelspec": {
   "display_name": "Python 3",
   "language": "python",
   "name": "python3"
  },
  "language_info": {
   "codemirror_mode": {
    "name": "ipython",
    "version": 3
   },
   "file_extension": ".py",
   "mimetype": "text/x-python",
   "name": "python",
   "nbconvert_exporter": "python",
   "pygments_lexer": "ipython3",
   "version": "3.8.3"
  }
 },
 "nbformat": 4,
 "nbformat_minor": 4
}
