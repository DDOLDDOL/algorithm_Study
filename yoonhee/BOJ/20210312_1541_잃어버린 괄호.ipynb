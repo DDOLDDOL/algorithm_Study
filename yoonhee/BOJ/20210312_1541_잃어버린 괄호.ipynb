{
 "cells": [
  {
   "cell_type": "markdown",
   "metadata": {},
   "source": [
    "세준이와 양수는  +,-, ()를 가지고 식을 만들었다.\n",
    "그리고 나서 세준이는 괄호를 모두 지웠다\n",
    "\n",
    "세준이는 괄호를 적절히 쳐 이 식을 최소로 만들려고 한다\n",
    "괄호를 적절히 쳐서 이 식의 값을 최소로 만드는 프로그래밍을 작성\n",
    "\n",
    "- 첫째 줄에 식이 주어진다\n",
    "- '0’~‘9’, ‘+’, 그리고 ‘-’\n",
    "- 가장 처음과 마지막 문자는 숫자\n",
    "- 그리고 연속해서 두 개 이상의 연산자가 나타나지 않고, \n",
    "- 5자리보다 많이 연속되는 숫자는 없다\n",
    "- 수는 0으로 시작할 수 없다\n",
    "- 입력으로 주어지는 식의 길이는 50보다 작거나 같다"
   ]
  },
  {
   "cell_type": "code",
   "execution_count": 1,
   "metadata": {},
   "outputs": [
    {
     "name": "stdout",
     "output_type": "stream",
     "text": [
      "40+50\n",
      "-10\n"
     ]
    }
   ],
   "source": [
    "# - 부호가 나오면 다음 마이너스 부호가 나오기 전까지 -괄호를 닫지 않는다\n",
    "# - 가 없는경우까지 생각해야함\n",
    "expression = input()\n",
    "expression = expression.replace(\"+\",\"-\")\n",
    "\n",
    "num_list = expression.split('-')\n",
    "num_list = list(map(int,num_list))\n",
    "\n",
    "result = num_list[0]\n",
    "for i in range(1,len(num_list)):\n",
    "    result -= num_list[i]\n",
    "\n",
    "print(result)\n"
   ]
  },
  {
   "cell_type": "code",
   "execution_count": 5,
   "metadata": {},
   "outputs": [
    {
     "name": "stdout",
     "output_type": "stream",
     "text": [
      "30+10+20\n",
      "60\n"
     ]
    }
   ],
   "source": [
    "list1 = input().split('-')\n",
    "s = 0 \n",
    "list2 = list1[0].split('+')\n",
    "for i in list2:\n",
    "    s += int(i)\n",
    "for i in list1[1:]:\n",
    "    for j in list \n",
    "    s -= int(j) \n",
    "    \n",
    "print(s)"
   ]
  },
  {
   "cell_type": "code",
   "execution_count": null,
   "metadata": {},
   "outputs": [],
   "source": []
  }
 ],
 "metadata": {
  "kernelspec": {
   "display_name": "Python 3",
   "language": "python",
   "name": "python3"
  },
  "language_info": {
   "codemirror_mode": {
    "name": "ipython",
    "version": 3
   },
   "file_extension": ".py",
   "mimetype": "text/x-python",
   "name": "python",
   "nbconvert_exporter": "python",
   "pygments_lexer": "ipython3",
   "version": "3.8.3"
  }
 },
 "nbformat": 4,
 "nbformat_minor": 4
}
