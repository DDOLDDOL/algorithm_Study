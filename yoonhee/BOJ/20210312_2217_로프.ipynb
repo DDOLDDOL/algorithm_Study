{
 "cells": [
  {
   "cell_type": "code",
   "execution_count": null,
   "metadata": {},
   "outputs": [],
   "source": [
    "# sort를 이용해 차례대로 각 경우의 최대중량을 구함\n",
    "# 최대 중량이 가장 큰 경우 print 함\n",
    "max_weight = [] \n",
    "lopes = int(input())\n",
    "weight_list = []\n",
    "for i in range(lopes):\n",
    "    weight = int(input())\n",
    "    weight_list.append(weight)\n",
    "weight_list.sort(reverse = True)\n",
    "\n",
    "for i in range(len(weight_list)):\n",
    "    "
   ]
  }
 ],
 "metadata": {
  "kernelspec": {
   "display_name": "Python 3",
   "language": "python",
   "name": "python3"
  },
  "language_info": {
   "codemirror_mode": {
    "name": "ipython",
    "version": 3
   },
   "file_extension": ".py",
   "mimetype": "text/x-python",
   "name": "python",
   "nbconvert_exporter": "python",
   "pygments_lexer": "ipython3",
   "version": "3.8.3"
  }
 },
 "nbformat": 4,
 "nbformat_minor": 4
}
