numInput = int(input())
posiList=[]
negatiList=[]
oneList=[]

for _ in range(numInput):
    num = int(input())
    if num > 1:
        posiList.append(num)
    elif num <= 0:
        negatiList.append(num)
    else:
        oneList.append(num)
posiList.sort(reverse=True)
negatiList.sort()
result = 0

# 양수일경우
if len(posiList) % 2 == 0: 
    for i in range(0,len(posiList)-1,2):
        result += posiList[i] * posiList[i+1]
else:
    for i in range(0,len(posiList)-1,2): # list 원소 갯수 : 홀수
        result += posiList[i] * posiList[i+1]
    result += posiList[-1]
        
# 음수일경우
if len(negatiList) % 2 == 0:
    for i in range(0,len(negatiList),2): 
        result += negatiList[i] * negatiList[i+1]
else:
    for i in range(0,len(negatiList)-1,2):
        result += negatiList[i] * negatiList[i+1]
    result += negatiList[-1]

result += sum(oneList)

print(result)
