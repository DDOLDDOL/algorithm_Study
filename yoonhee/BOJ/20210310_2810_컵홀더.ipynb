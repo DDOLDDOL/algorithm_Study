{
 "cells": [
  {
   "cell_type": "code",
   "execution_count": 9,
   "metadata": {},
   "outputs": [
    {
     "name": "stdout",
     "output_type": "stream",
     "text": [
      "9\n",
      "LLLLLLSSS\n",
      "7\n"
     ]
    }
   ],
   "source": [
    "# 일반 좌석은 양쪽에 컵 홀더를 둘수 있음 \n",
    "# 커플 좌석은 한쌍으로 배치되고 한쌍의 양쪽 끝에 컵홀더를 둘 수 있음\n",
    "\n",
    "# 좌석의 수와 배치를 입력 받아 \n",
    "# 컵을 컵홀더에 놓을 수 있는 최대 사람의 수를 출력한다.\n",
    "\n",
    "# hint : 커플석은 일반석으로 생각\n",
    "\n",
    "# 좌석 수 입력\n",
    "num = int(input())\n",
    "\n",
    "# 좌석 배치 입력\n",
    "seats_list = input()\n",
    "\n",
    "# 리스트에서 LL의 개수 세기\n",
    "count_LL = seats_list.count(\"LL\")\n",
    "\n",
    "\n",
    "max_using_cupholds = num\n",
    "if count_LL >= 2: # LL의 개수가 2이상인 경우,\n",
    "    max_using_cupholds -= count_LL - 1  # 최대 사용 컵홀더의 수는 좌석수 - (LL(세트)의 개수 -1)과 같다\n",
    "print(max_using_cupholds)\n",
    "    \n"
   ]
  }
 ],
 "metadata": {
  "kernelspec": {
   "display_name": "Python 3",
   "language": "python",
   "name": "python3"
  },
  "language_info": {
   "codemirror_mode": {
    "name": "ipython",
    "version": 3
   },
   "file_extension": ".py",
   "mimetype": "text/x-python",
   "name": "python",
   "nbconvert_exporter": "python",
   "pygments_lexer": "ipython3",
   "version": "3.8.3"
  }
 },
 "nbformat": 4,
 "nbformat_minor": 4
}
