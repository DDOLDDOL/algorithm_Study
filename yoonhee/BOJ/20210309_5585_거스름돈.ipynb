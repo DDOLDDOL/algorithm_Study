{
 "cells": [
  {
   "cell_type": "markdown",
   "metadata": {},
   "source": [
    "가장 큰 동전부터 지불해야하는 값을 최대한 채우는 방식으로 진행 "
   ]
  },
  {
   "cell_type": "code",
   "execution_count": 9,
   "metadata": {},
   "outputs": [],
   "source": [
    "coin_list = [500,100,50,10,5,1]\n",
    "def min_coin_count(value, coin_list):\n",
    "    total_coin_count = 0\n",
    "    details = list()\n",
    "    coin_list.sort(reverse = True)   \n",
    "    for coin in coin_list:\n",
    "        coin_num = value // coin\n",
    "        total_coin_count += coin_num\n",
    "        value -= coin_num * coin\n",
    "        details.append([coin, coin_num])\n",
    "    return total_coin_count, details"
   ]
  },
  {
   "cell_type": "code",
   "execution_count": 10,
   "metadata": {},
   "outputs": [
    {
     "data": {
      "text/plain": [
       "(13, [[500, 9], [100, 2], [50, 0], [10, 2], [1, 0]])"
      ]
     },
     "execution_count": 10,
     "metadata": {},
     "output_type": "execute_result"
    }
   ],
   "source": [
    "min_coin_count(4720, coin_list)"
   ]
  },
  {
   "cell_type": "code",
   "execution_count": 8,
   "metadata": {},
   "outputs": [
    {
     "name": "stdout",
     "output_type": "stream",
     "text": [
      "680\n",
      "5\n"
     ]
    }
   ],
   "source": [
    "coin_list = [500,100,50,10,5,1]\n",
    "value = int(input())\n",
    "exchange = 1000 - value\n",
    "total_coin_count = 0\n",
    "for coin in coin_list: # coin list로 인자를 직접 비교하면 됨\n",
    "    coin_num = exchange // coin # 몫 연산자 \n",
    "    total_coin_count += coin_num \n",
    "    exchange -= coin_num * coin # 거스름돈을 점점 줄여가는 방법\n",
    "print(total_coin_count)"
   ]
  },
  {
   "cell_type": "code",
   "execution_count": null,
   "metadata": {},
   "outputs": [],
   "source": []
  },
  {
   "cell_type": "code",
   "execution_count": null,
   "metadata": {},
   "outputs": [],
   "source": []
  }
 ],
 "metadata": {
  "kernelspec": {
   "display_name": "Python 3",
   "language": "python",
   "name": "python3"
  },
  "language_info": {
   "codemirror_mode": {
    "name": "ipython",
    "version": 3
   },
   "file_extension": ".py",
   "mimetype": "text/x-python",
   "name": "python",
   "nbconvert_exporter": "python",
   "pygments_lexer": "ipython3",
   "version": "3.8.3"
  }
 },
 "nbformat": 4,
 "nbformat_minor": 4
}
