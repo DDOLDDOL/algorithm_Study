{
 "cells": [
  {
   "cell_type": "code",
   "execution_count": null,
   "metadata": {},
   "outputs": [],
   "source": [
    "import sys\n",
    "import heapq\n",
    "input=sys.stdin.readline\n",
    "#테스트 케이스 입력받기\n",
    "t=int(input())\n",
    "for i in range(t):\n",
    "  #지원자 수 입력받기\n",
    "  n=int(input())\n",
    "  rank=[]\n",
    "  for i in range(n):\n",
    "    a,b=map(int,input().split())\n",
    "    heapq.heappush(rank,(a,b))\n",
    "  \n",
    "  rank.sort()\n",
    "  #신입사원 변수\n",
    "  new=0\n",
    "  prev=9999999\n",
    "  for k in rank:\n",
    "    docu,meet=k\n",
    "    #이전 것 보다 면접 순위가 작으면 가능\n",
    "    if meet<prev:\n",
    "      new+=1\n",
    "      prev=meet\n",
    "\n",
    "  #신입사원수 출력하기\n",
    "  print(new)  "
   ]
  }
 ],
 "metadata": {
  "kernelspec": {
   "display_name": "Python 3",
   "language": "python",
   "name": "python3"
  },
  "language_info": {
   "codemirror_mode": {
    "name": "ipython",
    "version": 3
   },
   "file_extension": ".py",
   "mimetype": "text/x-python",
   "name": "python",
   "nbconvert_exporter": "python",
   "pygments_lexer": "ipython3",
   "version": "3.8.3"
  }
 },
 "nbformat": 4,
 "nbformat_minor": 4
}
